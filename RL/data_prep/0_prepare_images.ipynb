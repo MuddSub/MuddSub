{
 "cells": [
  {
   "cell_type": "code",
   "execution_count": 26,
   "metadata": {},
   "outputs": [],
   "source": [
    "from __future__ import print_function\n",
    "\n",
    "import cv2\n",
    "import numpy\n",
    "import os\n",
    "import glob"
   ]
  },
  {
   "cell_type": "code",
   "execution_count": 27,
   "metadata": {},
   "outputs": [],
   "source": [
    "base_dir = \"/home/dyang/Code/catkin_ws/src/MuddSub/RL/data_prep/\""
   ]
  },
  {
   "cell_type": "code",
   "execution_count": 28,
   "metadata": {},
   "outputs": [],
   "source": [
    "def gather_labels():\n",
    "    labels = {}\n",
    "    for fname in glob.glob(base_dir+'label_files/*.txt'):\n",
    "        with open(fname, 'r') as f:\n",
    "            for line in f:\n",
    "                line = str(line).strip()\n",
    "                data = line.split(\" \")\n",
    "                if len(data) < 5:\n",
    "                    continue\n",
    "                labels[data[0]] = data[1:]\n",
    "    return labels"
   ]
  },
  {
   "cell_type": "code",
   "execution_count": 30,
   "metadata": {},
   "outputs": [],
   "source": [
    "def reorder_files():\n",
    "    image_path = os.path.join(base_dir, 'sim_images')\n",
    "    files = os.listdir(image_path)\n",
    "    all_labels = gather_labels()\n",
    "    with open('labels.txt','w') as f:\n",
    "        for idx,key in enumerate(files):\n",
    "            coords = all_labels[key]\n",
    "            print('{}.png {} {} {} {}'.format(idx, coords[0],coords[1],coords[2],coords[3]),file = f)\n",
    "            os.rename(os.path.join(image_path,key), os.path.join(image_path,'{}.png'.format(idx)))"
   ]
  },
  {
   "cell_type": "code",
   "execution_count": 31,
   "metadata": {},
   "outputs": [],
   "source": [
    "reorder_files()"
   ]
  },
  {
   "cell_type": "code",
   "execution_count": null,
   "metadata": {},
   "outputs": [],
   "source": []
  },
  {
   "cell_type": "code",
   "execution_count": null,
   "metadata": {},
   "outputs": [],
   "source": []
  }
 ],
 "metadata": {
  "kernelspec": {
   "display_name": "Python 2",
   "language": "python",
   "name": "python2"
  },
  "language_info": {
   "codemirror_mode": {
    "name": "ipython",
    "version": 2
   },
   "file_extension": ".py",
   "mimetype": "text/x-python",
   "name": "python",
   "nbconvert_exporter": "python",
   "pygments_lexer": "ipython2",
   "version": "2.7.16"
  }
 },
 "nbformat": 4,
 "nbformat_minor": 2
}
